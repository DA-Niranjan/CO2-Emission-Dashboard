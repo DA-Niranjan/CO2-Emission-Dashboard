{
 "cells": [
  {
   "cell_type": "code",
   "execution_count": null,
   "metadata": {},
   "outputs": [],
   "source": [
    "import pandas as pd\n",
    "import numpy as np\n",
    "import panel as pn\n",
    "pn.extension('tabulator')\n",
    "\n",
    "import hvplot.pandas"
   ]
  },
  {
   "cell_type": "code",
   "execution_count": null,
   "metadata": {},
   "outputs": [],
   "source": [
    "df = pd.read_csv(\"owid-co2-data.csv\")"
   ]
  },
  {
   "cell_type": "code",
   "execution_count": null,
   "metadata": {},
   "outputs": [],
   "source": [
    "df.columns"
   ]
  },
  {
   "cell_type": "code",
   "execution_count": null,
   "metadata": {},
   "outputs": [],
   "source": [
    "df[df[\"country\"]==\"World\"]"
   ]
  },
  {
   "cell_type": "code",
   "execution_count": null,
   "metadata": {},
   "outputs": [],
   "source": [
    "df[\"year\"].max()"
   ]
  },
  {
   "cell_type": "markdown",
   "metadata": {},
   "source": [
    "## (0) Some Minor Data Processing"
   ]
  },
  {
   "cell_type": "code",
   "execution_count": null,
   "metadata": {},
   "outputs": [],
   "source": [
    "# Fill NAs with 0s and create GDP per capita column\n",
    "df = df.fillna(0)\n",
    "df[\"gdp_per_capita\"] = np.where(df[\"population\"]!=0,df['gdp']/df[\"population\"],0)"
   ]
  },
  {
   "cell_type": "code",
   "execution_count": null,
   "metadata": {},
   "outputs": [],
   "source": [
    "# Make DataFrane Pipeline Interactive\n",
    "idf = df.interactive()"
   ]
  },
  {
   "cell_type": "markdown",
   "metadata": {},
   "source": [
    "## (1) CO2 emission over time by continent"
   ]
  },
  {
   "cell_type": "code",
   "execution_count": null,
   "metadata": {},
   "outputs": [],
   "source": [
    "# Define Panel widgets\n",
    "year_slider = pn.widgets.IntSlider(name=\"Year slider\", start=1750, end=2021, step=5, value=1850)\n",
    "year_slider"
   ]
  },
  {
   "cell_type": "code",
   "execution_count": null,
   "metadata": {},
   "outputs": [],
   "source": [
    "# Radio Buttons for CO2 measures\n",
    "yaxis_co2 = pn.widgets.RadioButtonGroup(\n",
    "    name = \"Y axis\",\n",
    "    options = [\"co2\", \"co2_per_capita\"],\n",
    "    button_type = \"primary\"\n",
    ")"
   ]
  },
  {
   "cell_type": "code",
   "execution_count": null,
   "metadata": {},
   "outputs": [],
   "source": [
    "continents = ['World', 'Asia', 'Oceania', 'Europe', 'Africa', 'North America', 'South America', 'Antarctica']\n",
    "\n",
    "co2_pipeline = (\n",
    "    idf[\n",
    "        (idf.year <=year_slider) &\n",
    "        (idf.country.isin(continents))\n",
    "    ]\n",
    "    .groupby([\"country\", \"year\"])[yaxis_co2].mean().to_frame().reset_index().sort_values(by='year').reset_index(drop=True)\n",
    ")"
   ]
  },
  {
   "cell_type": "code",
   "execution_count": null,
   "metadata": {},
   "outputs": [],
   "source": [
    "co2_pipeline"
   ]
  },
  {
   "cell_type": "code",
   "execution_count": null,
   "metadata": {},
   "outputs": [],
   "source": [
    "co2_plot = co2_pipeline.hvplot(x='year', by='country', y=yaxis_co2, line_width=2, title = \"CO2 emission by continent\")\n",
    "co2_plot"
   ]
  },
  {
   "cell_type": "markdown",
   "metadata": {},
   "source": [
    "## (2) Table - CO2 emission over time by continent  "
   ]
  },
  {
   "cell_type": "code",
   "execution_count": null,
   "metadata": {},
   "outputs": [],
   "source": [
    "co2_table = co2_pipeline.pipe(pn.widgets.Tabulator, pagination='remote', page_size=10, sizing_mode='stretch_width')\n",
    "co2_table"
   ]
  },
  {
   "cell_type": "markdown",
   "metadata": {},
   "source": [
    "## (3) CO2 vs GDP scatterplot"
   ]
  },
  {
   "cell_type": "code",
   "execution_count": null,
   "metadata": {},
   "outputs": [],
   "source": [
    "co2_vs_gdp_scatterplot_pipeline = (\n",
    "    idf[\n",
    "        (idf.year == year_slider) &\n",
    "        (~(idf.country.isin(continents)))\n",
    "    ].groupby(['country','year','gdp_per_capita'])['co2'].mean().to_frame().reset_index().sort_values(by='year').reset_index(drop=True)\n",
    "    )"
   ]
  },
  {
   "cell_type": "code",
   "execution_count": null,
   "metadata": {},
   "outputs": [],
   "source": [
    "co2_vs_gdp_scatterplot_pipeline"
   ]
  },
  {
   "cell_type": "code",
   "execution_count": null,
   "metadata": {},
   "outputs": [],
   "source": [
    "co2_vs_gdp_scatterplot=co2_vs_gdp_scatterplot_pipeline.hvplot(x='gdp_per_capita', y='co2', by='country', size=80, kind='scatter', alpha=0.7, legend=False, height=500, width=500)\n",
    "co2_vs_gdp_scatterplot"
   ]
  },
  {
   "cell_type": "markdown",
   "metadata": {},
   "source": [
    "## (4) Bar chart with CO2 sources by continent"
   ]
  },
  {
   "cell_type": "code",
   "execution_count": null,
   "metadata": {},
   "outputs": [],
   "source": [
    "yaxis_co2_source = pn.widgets.RadioButtonGroup(name='Y axis', options=['coal_co2','oil_co2', 'gas_co2'], button_type='primary')\n",
    "\n",
    "continents_excl_world = ['Asia', 'Oceania', 'Europe', 'Africa', 'North America', 'South America', 'Antarctica']\n",
    "\n",
    "co2_source_bar_pipeline = (idf[\n",
    "        (idf.year == year_slider) &\n",
    "        (idf.country.isin(continents_excl_world))\n",
    "    ].groupby(['year', 'country'])[yaxis_co2_source].sum().to_frame().reset_index().sort_values(by='year').reset_index(drop=True)\n",
    ")"
   ]
  },
  {
   "cell_type": "code",
   "execution_count": null,
   "metadata": {},
   "outputs": [],
   "source": [
    "co2_source_bar_plot = co2_source_bar_pipeline.hvplot(kind='bar', \n",
    "                                                     x='country', \n",
    "                                                     y=yaxis_co2_source, \n",
    "                                                     title='CO2 source by continent')\n",
    "co2_source_bar_plot"
   ]
  },
  {
   "cell_type": "markdown",
   "metadata": {},
   "source": [
    "## Creating Dashboard"
   ]
  },
  {
   "cell_type": "code",
   "execution_count": null,
   "metadata": {},
   "outputs": [],
   "source": [
    "# Layout using Template\n",
    "template = pn.template.FastListTemplate(\n",
    "    title= 'World CO2 Emission Dashboard',\n",
    "    sidebar=[pn.pane.Markdown(\"# CO2 Emissions and Climate Change\"),\n",
    "             pn.pane.Markdown(\"#### Carbon dioxide emissions are the primary driver of global climate change. It’s widely recognised that to avoid the worst impacts of climate change, the world needs to urgently reduce emissions. But, how this responsibility is shared between regions, countries, and individuals has been an endless point of contention in international discussions.\"),\n",
    "             pn.pane.PNG('climate_day.png', sizing_mode='scale_width'),\n",
    "             pn.pane.Markdown(\"## Setting\"),\n",
    "             year_slider\n",
    "             ],\n",
    "    main = [pn.Row(pn.Column(yaxis_co2,\n",
    "                              co2_plot.panel(width=700), margin=(0,25)),\n",
    "                   co2_table.panel(width=500)),\n",
    "            pn.Row(pn.Column(co2_vs_gdp_scatterplot.panel(width=600), margin=(0,25)),\n",
    "                   pn.Column(yaxis_co2_source, co2_source_bar_plot.panel(width=600)))\n",
    "            ],\n",
    "    accent_base_color = \"#88d8b0\",\n",
    "    header_background = \"#88d8b0\",   \n",
    ")\n",
    "\n",
    "# template.show()\n",
    "template.servable();"
   ]
  }
 ],
 "metadata": {
  "kernelspec": {
   "display_name": "environment",
   "language": "python",
   "name": "python3"
  },
  "language_info": {
   "codemirror_mode": {
    "name": "ipython",
    "version": 3
   },
   "file_extension": ".py",
   "mimetype": "text/x-python",
   "name": "python",
   "nbconvert_exporter": "python",
   "pygments_lexer": "ipython3",
   "version": "3.11.4"
  }
 },
 "nbformat": 4,
 "nbformat_minor": 2
}
